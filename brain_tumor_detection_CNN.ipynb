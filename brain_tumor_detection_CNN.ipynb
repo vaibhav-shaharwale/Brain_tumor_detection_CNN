{
 "cells": [
  {
   "cell_type": "code",
   "execution_count": 1,
   "metadata": {},
   "outputs": [
    {
     "name": "stdout",
     "output_type": "stream",
     "text": [
      "{0: 162, 1: 268}\n",
      "Weight for class 0: 1.33\n",
      "Weight for class 1: 0.80\n",
      "Model: \"sequential\"\n",
      "_________________________________________________________________\n",
      " Layer (type)                Output Shape              Param #   \n",
      "=================================================================\n",
      " conv2d (Conv2D)             (None, 198, 198, 64)      640       \n",
      "                                                                 \n",
      " max_pooling2d (MaxPooling2D  (None, 99, 99, 64)       0         \n",
      " )                                                               \n",
      "                                                                 \n",
      " conv2d_1 (Conv2D)           (None, 97, 97, 64)        36928     \n",
      "                                                                 \n",
      " max_pooling2d_1 (MaxPooling  (None, 48, 48, 64)       0         \n",
      " 2D)                                                             \n",
      "                                                                 \n",
      " flatten (Flatten)           (None, 147456)            0         \n",
      "                                                                 \n",
      " dense (Dense)               (None, 64)                9437248   \n",
      "                                                                 \n",
      " dense_1 (Dense)             (None, 1)                 65        \n",
      "                                                                 \n",
      "=================================================================\n",
      "Total params: 9,474,881\n",
      "Trainable params: 9,474,881\n",
      "Non-trainable params: 0\n",
      "_________________________________________________________________\n",
      "None\n",
      "Epoch 1/15\n",
      "49/49 [==============================] - 46s 881ms/step - loss: 0.5402 - accuracy: 0.7571 - val_loss: 0.4064 - val_accuracy: 0.8140\n",
      "Epoch 2/15\n",
      "49/49 [==============================] - 40s 816ms/step - loss: 0.2730 - accuracy: 0.8992 - val_loss: 0.3582 - val_accuracy: 0.9070\n",
      "Epoch 3/15\n",
      "49/49 [==============================] - 39s 800ms/step - loss: 0.1435 - accuracy: 0.9612 - val_loss: 0.3910 - val_accuracy: 0.9302\n",
      "Epoch 4/15\n",
      "49/49 [==============================] - 39s 788ms/step - loss: 0.0550 - accuracy: 0.9767 - val_loss: 0.2802 - val_accuracy: 0.9302\n",
      "Epoch 5/15\n",
      "49/49 [==============================] - 38s 782ms/step - loss: 0.0147 - accuracy: 0.9974 - val_loss: 0.4708 - val_accuracy: 0.9535\n",
      "Epoch 6/15\n",
      "49/49 [==============================] - 38s 784ms/step - loss: 0.0089 - accuracy: 0.9974 - val_loss: 0.4661 - val_accuracy: 0.9535\n"
     ]
    },
    {
     "data": {
      "text/plain": [
       "<AxesSubplot:>"
      ]
     },
     "execution_count": 1,
     "metadata": {},
     "output_type": "execute_result"
    },
    {
     "data": {
      "image/png": "[encoded data removed]",
      "text/plain": [
       "<Figure size 432x288 with 1 Axes>"
      ]
     },
     "metadata": {
      "needs_background": "light"
     },
     "output_type": "display_data"
    }
   ],
   "source": [
    "from tensorflow import keras\n",
    "import pandas as pd\n",
    "import numpy as np\n",
    "import pickle\n",
    "\n",
    "X_train = pickle.load(open('X_train_full.pickle', 'rb'))\n",
    "y_train = pickle.load(open('y_train_full.pickle', 'rb'))\n",
    "X_test = pickle.load(open('X_test.pickle', 'rb'))\n",
    "y_test = pickle.load(open('y_test.pickle', 'rb'))\n",
    "\n",
    "# Normalization\n",
    "X_train = X_train/255.0     # max values of pixel is 255\n",
    "\n",
    "# Change data type to np.array, validation_split only supports for np.array or Tensors\n",
    "y_train = np.array(y_train)\n",
    "y_test = np.array(y_test)\n",
    "\n",
    "# data is imbalance, compute class weight for each class\n",
    "values, counts = np.unique(y_train, return_counts=True)\n",
    "values_counts = {values[0]: counts[0], values[1]: counts[1]}\n",
    "print(values_counts)\n",
    "\n",
    "# formula for class weights :  wj=n_samples / (n_classes * n_samplesj)\n",
    "weight_for_0 = len(y_train) / (2 * counts[0])\n",
    "weight_for_1 = len(y_train) / (2 * counts[1])\n",
    "\n",
    "class_weight = {0: weight_for_0, 1: weight_for_1}\n",
    "\n",
    "print('Weight for class 0: {:.2f}'.format(weight_for_0))\n",
    "print('Weight for class 1: {:.2f}'.format(weight_for_1))\n",
    "\n",
    "\n",
    "model = keras.models.Sequential()\n",
    "model.add(keras.layers.Conv2D(64, kernel_size=(3,3), activation='relu', input_shape=X_train.shape[1:]))\n",
    "model.add(keras.layers.MaxPooling2D(pool_size=(2,2)))\n",
    "\n",
    "model.add(keras.layers.Conv2D(64, kernel_size=(3,3), activation='relu'))\n",
    "model.add(keras.layers.MaxPooling2D(pool_size=(2,2)))\n",
    "\n",
    "model.add(keras.layers.Flatten())\n",
    "model.add(keras.layers.Dense(64, activation='relu'))\n",
    "\n",
    "model.add(keras.layers.Dense(1, activation='sigmoid'))\n",
    "\n",
    "print(model.summary())\n",
    "\n",
    "model.compile(loss='binary_crossentropy',\n",
    "                optimizer='adam',\n",
    "                metrics=['accuracy'])\n",
    "\n",
    "early_stopping = keras.callbacks.EarlyStopping(monitor='val_loss', patience=2, restore_best_weights=True, mode='min')\n",
    "\n",
    "history = model.fit(X_train, y_train, batch_size=8, epochs=15,\n",
    "                    validation_split=0.1, callbacks=[early_stopping],\n",
    "                    class_weight=class_weight)\n",
    "            \n",
    "pd.DataFrame(history.history).plot()"
   ]
  },
  {
   "cell_type": "code",
   "execution_count": 2,
   "metadata": {},
   "outputs": [
    {
     "name": "stdout",
     "output_type": "stream",
     "text": [
      "2/2 [==============================] - 2s 529ms/step - loss: 3.3769 - accuracy: 0.9811\n"
     ]
    },
    {
     "data": {
      "text/plain": [
       "[3.3768672943115234, 0.9811320900917053]"
      ]
     },
     "execution_count": 2,
     "metadata": {},
     "output_type": "execute_result"
    }
   ],
   "source": [
    "model.evaluate(X_test, y_test)"
   ]
  },
  {
   "cell_type": "code",
   "execution_count": 11,
   "metadata": {},
   "outputs": [],
   "source": [
    "model.save(\"brain_tumor_detection_CNN.h5\")"
   ]
  }
 ],
 "metadata": {
  "kernelspec": {
   "display_name": "Python 3.9.12 ('base')",
   "language": "python",
   "name": "python3"
  },
  "language_info": {
   "codemirror_mode": {
    "name": "ipython",
    "version": 3
   },
   "file_extension": ".py",
   "mimetype": "text/x-python",
   "name": "python",
   "nbconvert_exporter": "python",
   "pygments_lexer": "ipython3",
   "version": "3.9.12"
  },
  "orig_nbformat": 4,
  "vscode": {
   "interpreter": {
    "hash": "7199ef7af2be396f8272c772dab15d0b8bb336c60216fde39d64c1e2e09d623b"
   }
  }
 },
 "nbformat": 4,
 "nbformat_minor": 2
}
